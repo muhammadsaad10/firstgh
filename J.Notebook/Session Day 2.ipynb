{
 "cells": [
  {
   "cell_type": "code",
   "execution_count": 3,
   "metadata": {},
   "outputs": [
    {
     "name": "stdout",
     "output_type": "stream",
     "text": [
      "What is your height: 1.79\n",
      "What is your weight: 2.7\n",
      "BMI is  0.8426703286414282\n"
     ]
    }
   ],
   "source": [
    "# body mass calculator\n",
    "# input weight, height, \n",
    "height = input (\"What is your height: \")\n",
    "weight = input (\"What is your weight: \")\n",
    "height = float(height)\n",
    "weight = float(weight)\n",
    "BMI = weight/(height**2)\n",
    "print(\"BMI is \",BMI)\n",
    "        "
   ]
  }
 ],
 "metadata": {
  "kernelspec": {
   "display_name": "Python 3",
   "language": "python",
   "name": "python3"
  },
  "language_info": {
   "codemirror_mode": {
    "name": "ipython",
    "version": 3
   },
   "file_extension": ".py",
   "mimetype": "text/x-python",
   "name": "python",
   "nbconvert_exporter": "python",
   "pygments_lexer": "ipython3",
   "version": "3.8.3"
  }
 },
 "nbformat": 4,
 "nbformat_minor": 4
}
